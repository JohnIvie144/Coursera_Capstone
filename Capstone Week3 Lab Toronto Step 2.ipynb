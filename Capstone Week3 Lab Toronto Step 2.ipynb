{
    "nbformat_minor": 1, 
    "cells": [
        {
            "source": "#### First install Beautiful Soup package, used for performing \"web-scraping\" operations...\n\n#### (Note that we install the latest Beautiful Soup package, version 4, using LXML parser) ", 
            "cell_type": "markdown", 
            "metadata": {}
        }, 
        {
            "execution_count": 1, 
            "cell_type": "code", 
            "metadata": {
                "scrolled": true
            }, 
            "outputs": [
                {
                    "output_type": "stream", 
                    "name": "stdout", 
                    "text": "Fetching package metadata .............\nSolving package specifications: .\n\n# All requested packages already installed.\n# packages in environment at /opt/conda/envs/DSX-Python35:\n#\nbeautifulsoup4            4.6.3                    py35_0    conda-forge\n"
                }
            ], 
            "source": "!conda install -c conda-forge  beautifulsoup4  --yes  "
        }, 
        {
            "execution_count": 2, 
            "cell_type": "code", 
            "metadata": {
                "scrolled": true
            }, 
            "outputs": [
                {
                    "output_type": "stream", 
                    "name": "stdout", 
                    "text": "Fetching package metadata .............\nSolving package specifications: .\n\nPackage plan for installation in environment /opt/conda/envs/DSX-Python35:\n\nThe following packages will be UPDATED:\n\n    libxml2: 2.9.4-h6b072ca_5     --> 2.9.8-h422b904_2     conda-forge\n    libxslt: 1.1.29-hcf9102b_5    --> 1.1.32-h88dbc4e_2    conda-forge\n    lxml:    4.1.0-py35ha401a81_0 --> 4.2.5-py35hc9114bc_0 conda-forge\n\nlibxml2-2.9.8- 100% |################################| Time: 0:00:00   2.85 MB/s\nlibxslt-1.1.32 100% |################################| Time: 0:00:00   8.44 MB/s\nlxml-4.2.5-py3 100% |################################| Time: 0:00:00  12.97 MB/s\n"
                }
            ], 
            "source": "!conda install -c conda-forge  lxml  --yes"
        }, 
        {
            "source": "#### Now import the necessary Python Libraries...", 
            "cell_type": "markdown", 
            "metadata": {}
        }, 
        {
            "execution_count": 1, 
            "cell_type": "code", 
            "metadata": {}, 
            "outputs": [], 
            "source": "import pandas as pd\nimport numpy as np\nfrom bs4 import BeautifulSoup\nimport requests\nimport requests # library to handle requests\nfrom pandas.io.json import json_normalize # tranform JSON file into a pandas dataframe"
        }, 
        {
            "execution_count": 2, 
            "cell_type": "code", 
            "metadata": {}, 
            "outputs": [
                {
                    "execution_count": 2, 
                    "metadata": {}, 
                    "data": {
                        "text/html": "<div>\n<style scoped>\n    .dataframe tbody tr th:only-of-type {\n        vertical-align: middle;\n    }\n\n    .dataframe tbody tr th {\n        vertical-align: top;\n    }\n\n    .dataframe thead th {\n        text-align: right;\n    }\n</style>\n<table border=\"1\" class=\"dataframe\">\n  <thead>\n    <tr style=\"text-align: right;\">\n      <th></th>\n      <th>PostalCode</th>\n      <th>Borough</th>\n      <th>Neighborhood</th>\n    </tr>\n  </thead>\n  <tbody>\n  </tbody>\n</table>\n</div>", 
                        "text/plain": "Empty DataFrame\nColumns: [PostalCode, Borough, Neighborhood]\nIndex: []"
                    }, 
                    "output_type": "execute_result"
                }
            ], 
            "source": "# Create Pandas dataframe to store Toronto neighborhood data\n# Only have three columns: PostalCode, Borough, and Neighborhood\n\n# define the dataframe columns\ncolumn_names = ['PostalCode', 'Borough', 'Neighborhood']\n\n# instantiate the dataframe\ndf_neighborhoods = pd.DataFrame(columns=column_names)\n\n# take a look at the empty dataframe, to check that columns are correctly named\ndf_neighborhoods"
        }, 
        {
            "source": "# 1. Perform Web-Scraping and Explore Resulting Dataset", 
            "cell_type": "markdown", 
            "metadata": {}
        }, 
        {
            "source": "#### Now use the Python requests library to read the contents of the Wikipedia web site as a string of HTML code\n\n#### This HTML code string will then be parsed using the Beautiful Soup library (with XML parse module)", 
            "cell_type": "markdown", 
            "metadata": {}
        }, 
        {
            "execution_count": 3, 
            "cell_type": "code", 
            "metadata": {}, 
            "outputs": [], 
            "source": "source = requests.get('https://en.wikipedia.org/wiki/List_of_postal_codes_of_Canada:_M').text\n#print(source)\nsoup = BeautifulSoup(source, 'lxml')\n#print(soup.prettify())\n"
        }, 
        {
            "source": "#### We now use the structure of the HTML code to find the postal code, borough and neighborhood data.\n\n#### Note that it is necessary to examine HTML code to see how it should be parsed to find this data...", 
            "cell_type": "markdown", 
            "metadata": {}
        }, 
        {
            "execution_count": 4, 
            "cell_type": "code", 
            "metadata": {}, 
            "outputs": [], 
            "source": "# now search for the PostalCode, Borough and Neighborhood data in the HTML data\nbody = soup.find('body')\n#print(body.prettify())\ntable = body.find('table', class_='wikitable sortable')\n#print(table.prettify())\ntable_data = table.tbody.find_all('tr')\n# skip first occurrence, as that is just header data\nfor i in range(1, len(table_data)):\n    data = table_data[i].text.split('\\n')\n    postcode = data[1]\n    borough = data[2]\n    neighborhood = data[3]"
        }, 
        {
            "source": "#### Now that we have parsed this data from the web-site HTML code, it will be used to populate the Pandas dataframe.\n\n#### Note that if a borough is not assigned, then data is skipped; if a neighborhood is not assigned, then it gets borough name.", 
            "cell_type": "markdown", 
            "metadata": {}
        }, 
        {
            "execution_count": 5, 
            "cell_type": "code", 
            "metadata": {}, 
            "outputs": [], 
            "source": "# Now read through this table data, to assign data to dataframe\n# Note that need to use dictionary to build up list of neighborhoods for each postal code;\n# the dictionary key is the postal code and the dictionary value is list of neighborhoods\nneighborhood_dict = {}\nborough_dict = {}\nfor i in range(1, len(table_data)):\n    data = table_data[i].text.split('\\n')\n    postcode = str(data[1])\n    borough = str(data[2])\n    neighborhood = str(data[3])\n    if borough == 'Not assigned':\n        continue\n    elif  neighborhood == 'Not assigned':\n        neighborhood = borough\n    if not(postcode in neighborhood_dict.keys()):\n        neighborhood_dict[postcode] = []\n    if not(neighborhood in neighborhood_dict[postcode]):\n        neighborhood_dict[postcode].append(neighborhood)\n    if not(postcode in borough_dict.keys()):\n        borough_dict[postcode] = \"\"\n    if len(borough) > 0:\n        borough_dict[postcode] = borough   "
        }, 
        {
            "source": "#### Now add this information to the pandas dataframe, converting list of neighborood names into comma-separated strings", 
            "cell_type": "markdown", 
            "metadata": {}
        }, 
        {
            "execution_count": 6, 
            "cell_type": "code", 
            "metadata": {}, 
            "outputs": [
                {
                    "execution_count": 6, 
                    "metadata": {}, 
                    "data": {
                        "text/html": "<div>\n<style scoped>\n    .dataframe tbody tr th:only-of-type {\n        vertical-align: middle;\n    }\n\n    .dataframe tbody tr th {\n        vertical-align: top;\n    }\n\n    .dataframe thead th {\n        text-align: right;\n    }\n</style>\n<table border=\"1\" class=\"dataframe\">\n  <thead>\n    <tr style=\"text-align: right;\">\n      <th></th>\n      <th>PostalCode</th>\n      <th>Borough</th>\n      <th>Neighborhood</th>\n    </tr>\n  </thead>\n  <tbody>\n    <tr>\n      <th>0</th>\n      <td>M4P</td>\n      <td>Central Toronto</td>\n      <td>Davisville North</td>\n    </tr>\n    <tr>\n      <th>1</th>\n      <td>M3A</td>\n      <td>North York</td>\n      <td>Parkwoods</td>\n    </tr>\n    <tr>\n      <th>2</th>\n      <td>M5C</td>\n      <td>Downtown Toronto</td>\n      <td>St. James Town</td>\n    </tr>\n    <tr>\n      <th>3</th>\n      <td>M6H</td>\n      <td>West Toronto</td>\n      <td>Dovercourt Village, Dufferin</td>\n    </tr>\n    <tr>\n      <th>4</th>\n      <td>M6C</td>\n      <td>York</td>\n      <td>Humewood-Cedarvale</td>\n    </tr>\n    <tr>\n      <th>5</th>\n      <td>M9N</td>\n      <td>York</td>\n      <td>Weston</td>\n    </tr>\n    <tr>\n      <th>6</th>\n      <td>M2H</td>\n      <td>North York</td>\n      <td>Hillcrest Village</td>\n    </tr>\n    <tr>\n      <th>7</th>\n      <td>M2K</td>\n      <td>North York</td>\n      <td>Bayview Village</td>\n    </tr>\n    <tr>\n      <th>8</th>\n      <td>M4J</td>\n      <td>East York</td>\n      <td>East Toronto</td>\n    </tr>\n    <tr>\n      <th>9</th>\n      <td>M4A</td>\n      <td>North York</td>\n      <td>Victoria Village</td>\n    </tr>\n  </tbody>\n</table>\n</div>", 
                        "text/plain": "  PostalCode           Borough                  Neighborhood\n0        M4P   Central Toronto              Davisville North\n1        M3A        North York                     Parkwoods\n2        M5C  Downtown Toronto                St. James Town\n3        M6H      West Toronto  Dovercourt Village, Dufferin\n4        M6C              York            Humewood-Cedarvale\n5        M9N              York                        Weston\n6        M2H        North York             Hillcrest Village\n7        M2K        North York               Bayview Village\n8        M4J         East York                  East Toronto\n9        M4A        North York              Victoria Village"
                    }, 
                    "output_type": "execute_result"
                }
            ], 
            "source": "# now add this data to the dataframe\nkey_list = list(neighborhood_dict.keys())\ndata_list = []\nfor i in range(len(key_list)):\n    data_dict = {}\n    data_dict['PostalCode'] = key_list[i]\n    data_dict['Borough'] = borough_dict[key_list[i]]\n    # need to convert list of strings into a single comma-separated string\n    if len(neighborhood_dict[key_list[i]]) > 1:\n       data_dict['Neighborhood'] = \", \".join(neighborhood_dict[key_list[i]]) \n    else:     \n       data_dict['Neighborhood'] = neighborhood_dict[key_list[i]][0]\n    data_list.append(data_dict)\n    \ndf_neighborhoods = pd.DataFrame(data_list)\ndf_neighborhoods = df_neighborhoods[['PostalCode', 'Borough', 'Neighborhood']]\ndf_neighborhoods.head(10)"
        }, 
        {
            "source": "#### Finally, display the number of rows in our pandas dataframe...", 
            "cell_type": "markdown", 
            "metadata": {}
        }, 
        {
            "execution_count": 7, 
            "cell_type": "code", 
            "metadata": {}, 
            "outputs": [
                {
                    "output_type": "stream", 
                    "name": "stdout", 
                    "text": "The number of rows in our pandas dataframe is: 103\n"
                }
            ], 
            "source": "# let's find the number of rows in our pandas dataframe\nprint(\"The number of rows in our pandas dataframe is:\", df_neighborhoods.shape[0])"
        }, 
        {
            "source": "#### Now let's add Latitude and Longitude columns into the pandas dataframe...", 
            "cell_type": "markdown", 
            "metadata": {}
        }, 
        {
            "execution_count": 8, 
            "cell_type": "code", 
            "metadata": {}, 
            "outputs": [
                {
                    "execution_count": 8, 
                    "metadata": {}, 
                    "data": {
                        "text/html": "<div>\n<style scoped>\n    .dataframe tbody tr th:only-of-type {\n        vertical-align: middle;\n    }\n\n    .dataframe tbody tr th {\n        vertical-align: top;\n    }\n\n    .dataframe thead th {\n        text-align: right;\n    }\n</style>\n<table border=\"1\" class=\"dataframe\">\n  <thead>\n    <tr style=\"text-align: right;\">\n      <th></th>\n      <th>PostalCode</th>\n      <th>Borough</th>\n      <th>Neighborhood</th>\n      <th>Latitude</th>\n      <th>Longitude</th>\n    </tr>\n  </thead>\n  <tbody>\n    <tr>\n      <th>0</th>\n      <td>M4P</td>\n      <td>Central Toronto</td>\n      <td>Davisville North</td>\n      <td></td>\n      <td></td>\n    </tr>\n    <tr>\n      <th>1</th>\n      <td>M3A</td>\n      <td>North York</td>\n      <td>Parkwoods</td>\n      <td></td>\n      <td></td>\n    </tr>\n    <tr>\n      <th>2</th>\n      <td>M5C</td>\n      <td>Downtown Toronto</td>\n      <td>St. James Town</td>\n      <td></td>\n      <td></td>\n    </tr>\n    <tr>\n      <th>3</th>\n      <td>M6H</td>\n      <td>West Toronto</td>\n      <td>Dovercourt Village, Dufferin</td>\n      <td></td>\n      <td></td>\n    </tr>\n    <tr>\n      <th>4</th>\n      <td>M6C</td>\n      <td>York</td>\n      <td>Humewood-Cedarvale</td>\n      <td></td>\n      <td></td>\n    </tr>\n  </tbody>\n</table>\n</div>", 
                        "text/plain": "  PostalCode           Borough                  Neighborhood Latitude  \\\n0        M4P   Central Toronto              Davisville North            \n1        M3A        North York                     Parkwoods            \n2        M5C  Downtown Toronto                St. James Town            \n3        M6H      West Toronto  Dovercourt Village, Dufferin            \n4        M6C              York            Humewood-Cedarvale            \n\n  Longitude  \n0            \n1            \n2            \n3            \n4            "
                    }, 
                    "output_type": "execute_result"
                }
            ], 
            "source": "df_neighborhoods.insert(3, 'Latitude', '')\ndf_neighborhoods.insert(4, 'Longitude', '')\ndf_neighborhoods.head()"
        }, 
        {
            "source": "#### Note that we are forced to use CSV file containing Latitude and Longitude values for Toronto area\n\n#### Although much time was spent working with Geocoder, it could not provide this data for us... ", 
            "cell_type": "markdown", 
            "metadata": {}
        }, 
        {
            "execution_count": 9, 
            "cell_type": "code", 
            "metadata": {}, 
            "outputs": [
                {
                    "output_type": "stream", 
                    "name": "stdout", 
                    "text": "Geospatial Data Successfully downloaded...\n"
                }
            ], 
            "source": "# read in latitude and longitude values from CSV file\n!wget  -q -O 'Toronto_Lat_Long.csv'  https://cocl.us/Geospatial_data\nprint(\"Geospatial Data Successfully downloaded...\")\n"
        }, 
        {
            "source": "#### Now read the Latitude/Longitude data from the CSV file into our Pandas dataframe...", 
            "cell_type": "markdown", 
            "metadata": {}
        }, 
        {
            "execution_count": 10, 
            "cell_type": "code", 
            "metadata": {}, 
            "outputs": [], 
            "source": "import csv\n\ndf_neighborhoods.set_index('PostalCode', inplace=True)\n\nwith open('Toronto_Lat_Long.csv') as csv_file:\n    csv_reader = csv.reader(csv_file, delimiter = ',')\n    line_count = 0\n    for row in csv_reader:\n        if line_count == 0:\n            # skip first row, since it is just header information\n            pass\n        else:\n            postalCode = str(row[0])\n            df_neighborhoods.loc[[postalCode], ['Latitude']]  = float(row[1])\n            df_neighborhoods.loc[[postalCode], ['Longitude']] = float(row[2])\n        line_count = line_count + 1\ncsv_file.close()\n            \n        "
        }, 
        {
            "source": "#### Look at the first few rows of our dataframe, to check that the Latitude/Longitude data is available...", 
            "cell_type": "markdown", 
            "metadata": {}
        }, 
        {
            "execution_count": 13, 
            "cell_type": "code", 
            "metadata": {}, 
            "outputs": [
                {
                    "execution_count": 13, 
                    "metadata": {}, 
                    "data": {
                        "text/html": "<div>\n<style scoped>\n    .dataframe tbody tr th:only-of-type {\n        vertical-align: middle;\n    }\n\n    .dataframe tbody tr th {\n        vertical-align: top;\n    }\n\n    .dataframe thead th {\n        text-align: right;\n    }\n</style>\n<table border=\"1\" class=\"dataframe\">\n  <thead>\n    <tr style=\"text-align: right;\">\n      <th></th>\n      <th>Borough</th>\n      <th>Neighborhood</th>\n      <th>Latitude</th>\n      <th>Longitude</th>\n    </tr>\n    <tr>\n      <th>PostalCode</th>\n      <th></th>\n      <th></th>\n      <th></th>\n      <th></th>\n    </tr>\n  </thead>\n  <tbody>\n    <tr>\n      <th>M1K</th>\n      <td>Scarborough</td>\n      <td>East Birchmount Park, Ionview, Kennedy Park</td>\n      <td>43.7279</td>\n      <td>-79.262</td>\n    </tr>\n    <tr>\n      <th>M4X</th>\n      <td>Downtown Toronto</td>\n      <td>Cabbagetown, St. James Town</td>\n      <td>43.668</td>\n      <td>-79.3677</td>\n    </tr>\n    <tr>\n      <th>M9C</th>\n      <td>Etobicoke</td>\n      <td>Bloordale Gardens, Eringate, Markland Wood, Ol...</td>\n      <td>43.6435</td>\n      <td>-79.5772</td>\n    </tr>\n    <tr>\n      <th>M4V</th>\n      <td>Central Toronto</td>\n      <td>Deer Park, Forest Hill SE, Rathnelly, South Hi...</td>\n      <td>43.6864</td>\n      <td>-79.4</td>\n    </tr>\n    <tr>\n      <th>M3J</th>\n      <td>North York</td>\n      <td>Northwood Park, York University</td>\n      <td>43.768</td>\n      <td>-79.4873</td>\n    </tr>\n    <tr>\n      <th>M8Z</th>\n      <td>Etobicoke</td>\n      <td>Kingsway Park South West, Mimico NW, The Queen...</td>\n      <td>43.6288</td>\n      <td>-79.521</td>\n    </tr>\n    <tr>\n      <th>M8V</th>\n      <td>Etobicoke</td>\n      <td>Humber Bay Shores, Mimico South, New Toronto</td>\n      <td>43.6056</td>\n      <td>-79.5013</td>\n    </tr>\n    <tr>\n      <th>M5W</th>\n      <td>Downtown Toronto</td>\n      <td>Stn A PO Boxes 25 The Esplanade</td>\n      <td>43.6464</td>\n      <td>-79.3748</td>\n    </tr>\n    <tr>\n      <th>M5E</th>\n      <td>Downtown Toronto</td>\n      <td>Berczy Park</td>\n      <td>43.6448</td>\n      <td>-79.3733</td>\n    </tr>\n    <tr>\n      <th>M6P</th>\n      <td>West Toronto</td>\n      <td>High Park, The Junction South</td>\n      <td>43.6616</td>\n      <td>-79.4648</td>\n    </tr>\n  </tbody>\n</table>\n</div>", 
                        "text/plain": "                     Borough  \\\nPostalCode                     \nM1K              Scarborough   \nM4X         Downtown Toronto   \nM9C                Etobicoke   \nM4V          Central Toronto   \nM3J               North York   \nM8Z                Etobicoke   \nM8V                Etobicoke   \nM5W         Downtown Toronto   \nM5E         Downtown Toronto   \nM6P             West Toronto   \n\n                                                 Neighborhood Latitude  \\\nPostalCode                                                               \nM1K               East Birchmount Park, Ionview, Kennedy Park  43.7279   \nM4X                               Cabbagetown, St. James Town   43.668   \nM9C         Bloordale Gardens, Eringate, Markland Wood, Ol...  43.6435   \nM4V         Deer Park, Forest Hill SE, Rathnelly, South Hi...  43.6864   \nM3J                           Northwood Park, York University   43.768   \nM8Z         Kingsway Park South West, Mimico NW, The Queen...  43.6288   \nM8V              Humber Bay Shores, Mimico South, New Toronto  43.6056   \nM5W                           Stn A PO Boxes 25 The Esplanade  43.6464   \nM5E                                               Berczy Park  43.6448   \nM6P                             High Park, The Junction South  43.6616   \n\n           Longitude  \nPostalCode            \nM1K          -79.262  \nM4X         -79.3677  \nM9C         -79.5772  \nM4V            -79.4  \nM3J         -79.4873  \nM8Z          -79.521  \nM8V         -79.5013  \nM5W         -79.3748  \nM5E         -79.3733  \nM6P         -79.4648  "
                    }, 
                    "output_type": "execute_result"
                }
            ], 
            "source": "df_neighborhoods.head(10)"
        }, 
        {
            "source": "#### Display latitude and longitude values for selected postal codes", 
            "cell_type": "markdown", 
            "metadata": {}
        }, 
        {
            "execution_count": 29, 
            "cell_type": "code", 
            "metadata": {}, 
            "outputs": [
                {
                    "execution_count": 29, 
                    "metadata": {}, 
                    "data": {
                        "text/html": "<div>\n<style scoped>\n    .dataframe tbody tr th:only-of-type {\n        vertical-align: middle;\n    }\n\n    .dataframe tbody tr th {\n        vertical-align: top;\n    }\n\n    .dataframe thead th {\n        text-align: right;\n    }\n</style>\n<table border=\"1\" class=\"dataframe\">\n  <thead>\n    <tr style=\"text-align: right;\">\n      <th></th>\n      <th>Borough</th>\n      <th>Neighborhood</th>\n      <th>Latitude</th>\n      <th>Longitude</th>\n    </tr>\n    <tr>\n      <th>PostalCode</th>\n      <th></th>\n      <th></th>\n      <th></th>\n      <th></th>\n    </tr>\n  </thead>\n  <tbody>\n    <tr>\n      <th>M5G</th>\n      <td>Downtown Toronto</td>\n      <td>Central Bay Street</td>\n      <td>43.658</td>\n      <td>-79.3874</td>\n    </tr>\n    <tr>\n      <th>M2H</th>\n      <td>North York</td>\n      <td>Hillcrest Village</td>\n      <td>43.8038</td>\n      <td>-79.3635</td>\n    </tr>\n    <tr>\n      <th>M4B</th>\n      <td>East York</td>\n      <td>Woodbine Gardens, Parkview Hill</td>\n      <td>43.7064</td>\n      <td>-79.3099</td>\n    </tr>\n    <tr>\n      <th>M1J</th>\n      <td>Scarborough</td>\n      <td>Scarborough Village</td>\n      <td>43.7447</td>\n      <td>-79.2395</td>\n    </tr>\n    <tr>\n      <th>M4G</th>\n      <td>East York</td>\n      <td>Leaside</td>\n      <td>43.7091</td>\n      <td>-79.3635</td>\n    </tr>\n    <tr>\n      <th>M4M</th>\n      <td>East Toronto</td>\n      <td>Studio District</td>\n      <td>43.6595</td>\n      <td>-79.3409</td>\n    </tr>\n    <tr>\n      <th>M1R</th>\n      <td>Scarborough</td>\n      <td>Maryvale, Wexford</td>\n      <td>43.7501</td>\n      <td>-79.2958</td>\n    </tr>\n    <tr>\n      <th>M9V</th>\n      <td>Etobicoke</td>\n      <td>Albion Gardens, Beaumond Heights, Humbergate, ...</td>\n      <td>43.7394</td>\n      <td>-79.5884</td>\n    </tr>\n    <tr>\n      <th>M9L</th>\n      <td>North York</td>\n      <td>Humber Summit</td>\n      <td>43.7563</td>\n      <td>-79.566</td>\n    </tr>\n    <tr>\n      <th>M5V</th>\n      <td>Downtown Toronto</td>\n      <td>CN Tower, Bathurst Quay, Island airport, Harbo...</td>\n      <td>43.6289</td>\n      <td>-79.3944</td>\n    </tr>\n    <tr>\n      <th>M1B</th>\n      <td>Scarborough</td>\n      <td>Rouge, Malvern</td>\n      <td>43.8067</td>\n      <td>-79.1944</td>\n    </tr>\n    <tr>\n      <th>M5A</th>\n      <td>Downtown Toronto</td>\n      <td>Harbourfront, Regent Park</td>\n      <td>43.6543</td>\n      <td>-79.3606</td>\n    </tr>\n  </tbody>\n</table>\n</div>", 
                        "text/plain": "                     Borough  \\\nPostalCode                     \nM5G         Downtown Toronto   \nM2H               North York   \nM4B                East York   \nM1J              Scarborough   \nM4G                East York   \nM4M             East Toronto   \nM1R              Scarborough   \nM9V                Etobicoke   \nM9L               North York   \nM5V         Downtown Toronto   \nM1B              Scarborough   \nM5A         Downtown Toronto   \n\n                                                 Neighborhood Latitude  \\\nPostalCode                                                               \nM5G                                        Central Bay Street   43.658   \nM2H                                         Hillcrest Village  43.8038   \nM4B                           Woodbine Gardens, Parkview Hill  43.7064   \nM1J                                       Scarborough Village  43.7447   \nM4G                                                   Leaside  43.7091   \nM4M                                           Studio District  43.6595   \nM1R                                         Maryvale, Wexford  43.7501   \nM9V         Albion Gardens, Beaumond Heights, Humbergate, ...  43.7394   \nM9L                                             Humber Summit  43.7563   \nM5V         CN Tower, Bathurst Quay, Island airport, Harbo...  43.6289   \nM1B                                            Rouge, Malvern  43.8067   \nM5A                                 Harbourfront, Regent Park  43.6543   \n\n           Longitude  \nPostalCode            \nM5G         -79.3874  \nM2H         -79.3635  \nM4B         -79.3099  \nM1J         -79.2395  \nM4G         -79.3635  \nM4M         -79.3409  \nM1R         -79.2958  \nM9V         -79.5884  \nM9L          -79.566  \nM5V         -79.3944  \nM1B         -79.1944  \nM5A         -79.3606  "
                    }, 
                    "output_type": "execute_result"
                }
            ], 
            "source": "# display latitude and longitude values for selected postal codes\ndf_neighborhoods.loc[['M5G', 'M2H', 'M4B', 'M1J','M4G', 'M4M', 'M1R', 'M9V', 'M9L', 'M5V', 'M1B', 'M5A']]\n"
        }, 
        {
            "execution_count": 14, 
            "cell_type": "code", 
            "metadata": {}, 
            "outputs": [
                {
                    "output_type": "stream", 
                    "name": "stdout", 
                    "text": "The dataframe has 11 Boroughs and 103 Neighborhoods\n"
                }
            ], 
            "source": "# check number of boroughs and neighborhoods in dataframe\nprint('The dataframe has {} Boroughs and {} Neighborhoods'.format(\n       len(df_neighborhoods['Borough'].unique()), df_neighborhoods['Neighborhood'].shape[0]))\n"
        }
    ], 
    "metadata": {
        "kernelspec": {
            "display_name": "Python 3.5", 
            "name": "python3", 
            "language": "python"
        }, 
        "language_info": {
            "mimetype": "text/x-python", 
            "nbconvert_exporter": "python", 
            "version": "3.5.5", 
            "name": "python", 
            "file_extension": ".py", 
            "pygments_lexer": "ipython3", 
            "codemirror_mode": {
                "version": 3, 
                "name": "ipython"
            }
        }
    }, 
    "nbformat": 4
}