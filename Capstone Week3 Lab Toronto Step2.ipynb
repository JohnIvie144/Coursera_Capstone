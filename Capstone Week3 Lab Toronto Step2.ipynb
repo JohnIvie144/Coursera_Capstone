{
    "nbformat_minor": 1, 
    "cells": [
        {
            "source": "First install Beautiful Soup package, used for performing \"web-scraping\" operations...\n\n(Note that we install the latest Beautiful Soup package, version 4, using LXML parser) ", 
            "cell_type": "markdown", 
            "metadata": {}
        }, 
        {
            "execution_count": 1, 
            "cell_type": "code", 
            "metadata": {
                "scrolled": true
            }, 
            "outputs": [
                {
                    "output_type": "stream", 
                    "name": "stdout", 
                    "text": "Fetching package metadata .............\nSolving package specifications: .\n\nPackage plan for installation in environment /opt/conda/envs/DSX-Python35:\n\nThe following packages will be UPDATED:\n\n    beautifulsoup4: 4.6.0-py35h442a8c9_1 --> 4.6.3-py35_0 conda-forge\n\nbeautifulsoup4 100% |################################| Time: 0:00:00   1.44 MB/s\n"
                }
            ], 
            "source": "!conda install -c conda-forge  beautifulsoup4  --yes"
        }, 
        {
            "execution_count": 2, 
            "cell_type": "code", 
            "metadata": {
                "scrolled": true
            }, 
            "outputs": [
                {
                    "output_type": "stream", 
                    "name": "stdout", 
                    "text": "Fetching package metadata .............\nSolving package specifications: .\n\nPackage plan for installation in environment /opt/conda/envs/DSX-Python35:\n\nThe following packages will be UPDATED:\n\n    libxml2: 2.9.4-h6b072ca_5     --> 2.9.8-h422b904_2     conda-forge\n    libxslt: 1.1.29-hcf9102b_5    --> 1.1.32-h88dbc4e_2    conda-forge\n    lxml:    4.1.0-py35ha401a81_0 --> 4.2.5-py35hc9114bc_0 conda-forge\n\nlibxml2-2.9.8- 100% |################################| Time: 0:00:00   7.88 MB/s\nlibxslt-1.1.32 100% |################################| Time: 0:00:00  58.45 MB/s\nlxml-4.2.5-py3 100% |################################| Time: 0:00:00  57.42 MB/s\n"
                }
            ], 
            "source": "!conda install -c conda-forge  lxml  --yes"
        }, 
        {
            "source": "Now import the necessary Python Libraries...", 
            "cell_type": "markdown", 
            "metadata": {}
        }, 
        {
            "execution_count": 3, 
            "cell_type": "code", 
            "metadata": {}, 
            "outputs": [], 
            "source": "import pandas as pd\nfrom bs4 import BeautifulSoup\nimport requests"
        }, 
        {
            "execution_count": 4, 
            "cell_type": "code", 
            "metadata": {}, 
            "outputs": [
                {
                    "execution_count": 4, 
                    "metadata": {}, 
                    "data": {
                        "text/html": "<div>\n<style scoped>\n    .dataframe tbody tr th:only-of-type {\n        vertical-align: middle;\n    }\n\n    .dataframe tbody tr th {\n        vertical-align: top;\n    }\n\n    .dataframe thead th {\n        text-align: right;\n    }\n</style>\n<table border=\"1\" class=\"dataframe\">\n  <thead>\n    <tr style=\"text-align: right;\">\n      <th></th>\n      <th>PostalCode</th>\n      <th>Borough</th>\n      <th>Neighborhood</th>\n    </tr>\n  </thead>\n  <tbody>\n  </tbody>\n</table>\n</div>", 
                        "text/plain": "Empty DataFrame\nColumns: [PostalCode, Borough, Neighborhood]\nIndex: []"
                    }, 
                    "output_type": "execute_result"
                }
            ], 
            "source": "# Create Pandas dataframe to store Toronto neighborhood data\n# Only have three columns: PostalCode, Borough, and Neighborhood\n\n# define the dataframe columns\ncolumn_names = ['PostalCode', 'Borough', 'Neighborhood']\n\n# instantiate the dataframe\ndf_neighborhoods = pd.DataFrame(columns=column_names)\n\n# take a look at the empty dataframe, to check that columns are correctly named\ndf_neighborhoods"
        }, 
        {
            "source": "Now use the Python requests library to read the contents of the Wikipedia web site as a string of HTML code\n\nThis HTML code string will then be parsed using the Beautiful Soup library (with XML parse module)", 
            "cell_type": "markdown", 
            "metadata": {}
        }, 
        {
            "execution_count": 5, 
            "cell_type": "code", 
            "metadata": {}, 
            "outputs": [], 
            "source": "source = requests.get('https://en.wikipedia.org/wiki/List_of_postal_codes_of_Canada:_M').text\n#print(source)\nsoup = BeautifulSoup(source, 'lxml')\n#print(soup.prettify())\n"
        }, 
        {
            "source": "We now use the structure of the HTML code to find the postal code, borough and neighborhood data.\n\nNote that it is necessary to examine HTML code to see how it should be parsed to find this data...", 
            "cell_type": "markdown", 
            "metadata": {}
        }, 
        {
            "execution_count": 6, 
            "cell_type": "code", 
            "metadata": {}, 
            "outputs": [], 
            "source": "# now search for the PostalCode, Borough and Neighborhood data in the HTML data\nbody = soup.find('body')\n#print(body.prettify())\ntable = body.find('table', class_='wikitable sortable')\n#print(table.prettify())\ntable_data = table.tbody.find_all('tr')\n# skip first occurrence, as that is just header data\nfor i in range(1, len(table_data)):\n    data = table_data[i].text.split('\\n')\n    postcode = data[1]\n    borough = data[2]\n    neighborhood = data[3]"
        }, 
        {
            "source": "Now that we have parsed this data from the web-site HTML code, it will be used to populate the Pandas dataframe.\n\nNote that if a borough is not assigned, then data is skipped; if a neighborhood is not assigned, then it gets borough name.", 
            "cell_type": "markdown", 
            "metadata": {}
        }, 
        {
            "execution_count": 7, 
            "cell_type": "code", 
            "metadata": {}, 
            "outputs": [], 
            "source": "# Now read through this table data, to assign data to dataframe\n# Note that need to use dictionary to build up list of neighborhoods for each postal code;\n# the dictionary key is the postal code and the dictionary value is list of neighborhoods\nneighborhood_dict = {}\nborough_dict = {}\nfor i in range(1, len(table_data)):\n    data = table_data[i].text.split('\\n')\n    postcode = str(data[1])\n    borough = str(data[2])\n    neighborhood = str(data[3])\n    if borough == 'Not assigned':\n        continue\n    elif  neighborhood == 'Not assigned':\n        neighborhood = borough\n    if not(postcode in neighborhood_dict.keys()):\n        neighborhood_dict[postcode] = []\n    if not(neighborhood in neighborhood_dict[postcode]):\n        neighborhood_dict[postcode].append(neighborhood)\n    if not(postcode in borough_dict.keys()):\n        borough_dict[postcode] = \"\"\n    if len(borough) > 0:\n        borough_dict[postcode] = borough   "
        }, 
        {
            "source": "Now add this information to the pandas dataframe, converting list of neighborood names into comma-separated strings", 
            "cell_type": "markdown", 
            "metadata": {}
        }, 
        {
            "execution_count": 8, 
            "cell_type": "code", 
            "metadata": {}, 
            "outputs": [
                {
                    "execution_count": 8, 
                    "metadata": {}, 
                    "data": {
                        "text/html": "<div>\n<style scoped>\n    .dataframe tbody tr th:only-of-type {\n        vertical-align: middle;\n    }\n\n    .dataframe tbody tr th {\n        vertical-align: top;\n    }\n\n    .dataframe thead th {\n        text-align: right;\n    }\n</style>\n<table border=\"1\" class=\"dataframe\">\n  <thead>\n    <tr style=\"text-align: right;\">\n      <th></th>\n      <th>PostalCode</th>\n      <th>Borough</th>\n      <th>Neighborhood</th>\n    </tr>\n  </thead>\n  <tbody>\n    <tr>\n      <th>0</th>\n      <td>M5J</td>\n      <td>Downtown Toronto</td>\n      <td>Harbourfront East, Toronto Islands, Union Station</td>\n    </tr>\n    <tr>\n      <th>1</th>\n      <td>M4B</td>\n      <td>East York</td>\n      <td>Woodbine Gardens, Parkview Hill</td>\n    </tr>\n    <tr>\n      <th>2</th>\n      <td>M4J</td>\n      <td>East York</td>\n      <td>East Toronto</td>\n    </tr>\n    <tr>\n      <th>3</th>\n      <td>M6J</td>\n      <td>West Toronto</td>\n      <td>Little Portugal, Trinity</td>\n    </tr>\n    <tr>\n      <th>4</th>\n      <td>M3M</td>\n      <td>North York</td>\n      <td>Downsview Central</td>\n    </tr>\n    <tr>\n      <th>5</th>\n      <td>M6L</td>\n      <td>North York</td>\n      <td>Maple Leaf Park, North Park, Upwood Park</td>\n    </tr>\n    <tr>\n      <th>6</th>\n      <td>M9L</td>\n      <td>North York</td>\n      <td>Humber Summit</td>\n    </tr>\n    <tr>\n      <th>7</th>\n      <td>M4M</td>\n      <td>East Toronto</td>\n      <td>Studio District</td>\n    </tr>\n    <tr>\n      <th>8</th>\n      <td>M9V</td>\n      <td>Etobicoke</td>\n      <td>Albion Gardens, Beaumond Heights, Humbergate, ...</td>\n    </tr>\n    <tr>\n      <th>9</th>\n      <td>M5L</td>\n      <td>Downtown Toronto</td>\n      <td>Commerce Court, Victoria Hotel</td>\n    </tr>\n  </tbody>\n</table>\n</div>", 
                        "text/plain": "  PostalCode           Borough  \\\n0        M5J  Downtown Toronto   \n1        M4B         East York   \n2        M4J         East York   \n3        M6J      West Toronto   \n4        M3M        North York   \n5        M6L        North York   \n6        M9L        North York   \n7        M4M      East Toronto   \n8        M9V         Etobicoke   \n9        M5L  Downtown Toronto   \n\n                                        Neighborhood  \n0  Harbourfront East, Toronto Islands, Union Station  \n1                    Woodbine Gardens, Parkview Hill  \n2                                       East Toronto  \n3                           Little Portugal, Trinity  \n4                                  Downsview Central  \n5           Maple Leaf Park, North Park, Upwood Park  \n6                                      Humber Summit  \n7                                    Studio District  \n8  Albion Gardens, Beaumond Heights, Humbergate, ...  \n9                     Commerce Court, Victoria Hotel  "
                    }, 
                    "output_type": "execute_result"
                }
            ], 
            "source": "# now add this data to the dataframe\nkey_list = list(neighborhood_dict.keys())\ndata_list = []\nfor i in range(len(key_list)):\n    data_dict = {}\n    data_dict['PostalCode'] = key_list[i]\n    data_dict['Borough'] = borough_dict[key_list[i]]\n    # need to convert list of strings into a single comma-separated string\n    if len(neighborhood_dict[key_list[i]]) > 1:\n       data_dict['Neighborhood'] = \", \".join(neighborhood_dict[key_list[i]]) \n    else:     \n       data_dict['Neighborhood'] = neighborhood_dict[key_list[i]][0]\n    data_list.append(data_dict)\n    \ndf_neighborhoods = pd.DataFrame(data_list)\ndf_neighborhoods = df_neighborhoods[['PostalCode', 'Borough', 'Neighborhood']]\ndf_neighborhoods.head(10)"
        }, 
        {
            "source": "Finally, display the number of rows in our pandas dataframe...", 
            "cell_type": "markdown", 
            "metadata": {}
        }, 
        {
            "execution_count": 9, 
            "cell_type": "code", 
            "metadata": {}, 
            "outputs": [
                {
                    "output_type": "stream", 
                    "name": "stdout", 
                    "text": "The number of rows in our pandas dataframe is: 103\n"
                }
            ], 
            "source": "# let's find the number of rows in our pandas dataframe\nprint(\"The number of rows in our pandas dataframe is:\", df_neighborhoods.shape[0])"
        }, 
        {
            "source": "Now let's add Latitude and Longitude columns into the pandas dataframe...", 
            "cell_type": "markdown", 
            "metadata": {}
        }, 
        {
            "execution_count": 10, 
            "cell_type": "code", 
            "metadata": {}, 
            "outputs": [
                {
                    "execution_count": 10, 
                    "metadata": {}, 
                    "data": {
                        "text/html": "<div>\n<style scoped>\n    .dataframe tbody tr th:only-of-type {\n        vertical-align: middle;\n    }\n\n    .dataframe tbody tr th {\n        vertical-align: top;\n    }\n\n    .dataframe thead th {\n        text-align: right;\n    }\n</style>\n<table border=\"1\" class=\"dataframe\">\n  <thead>\n    <tr style=\"text-align: right;\">\n      <th></th>\n      <th>PostalCode</th>\n      <th>Borough</th>\n      <th>Neighborhood</th>\n      <th>Latitude</th>\n      <th>Longitude</th>\n    </tr>\n  </thead>\n  <tbody>\n    <tr>\n      <th>0</th>\n      <td>M5J</td>\n      <td>Downtown Toronto</td>\n      <td>Harbourfront East, Toronto Islands, Union Station</td>\n      <td></td>\n      <td></td>\n    </tr>\n    <tr>\n      <th>1</th>\n      <td>M4B</td>\n      <td>East York</td>\n      <td>Woodbine Gardens, Parkview Hill</td>\n      <td></td>\n      <td></td>\n    </tr>\n    <tr>\n      <th>2</th>\n      <td>M4J</td>\n      <td>East York</td>\n      <td>East Toronto</td>\n      <td></td>\n      <td></td>\n    </tr>\n    <tr>\n      <th>3</th>\n      <td>M6J</td>\n      <td>West Toronto</td>\n      <td>Little Portugal, Trinity</td>\n      <td></td>\n      <td></td>\n    </tr>\n    <tr>\n      <th>4</th>\n      <td>M3M</td>\n      <td>North York</td>\n      <td>Downsview Central</td>\n      <td></td>\n      <td></td>\n    </tr>\n  </tbody>\n</table>\n</div>", 
                        "text/plain": "  PostalCode           Borough  \\\n0        M5J  Downtown Toronto   \n1        M4B         East York   \n2        M4J         East York   \n3        M6J      West Toronto   \n4        M3M        North York   \n\n                                        Neighborhood Latitude Longitude  \n0  Harbourfront East, Toronto Islands, Union Station                     \n1                    Woodbine Gardens, Parkview Hill                     \n2                                       East Toronto                     \n3                           Little Portugal, Trinity                     \n4                                  Downsview Central                     "
                    }, 
                    "output_type": "execute_result"
                }
            ], 
            "source": "df_neighborhoods.insert(3, 'Latitude', '')\ndf_neighborhoods.insert(4, 'Longitude', '')\ndf_neighborhoods.head()"
        }, 
        {
            "source": "Note that we are forced to use CSV file containing Latitude and Longitude values for Toronto area\n\nAlthough much time was spent working with Geocoder, it could not provide this data for us... ", 
            "cell_type": "markdown", 
            "metadata": {}
        }, 
        {
            "execution_count": 11, 
            "cell_type": "code", 
            "metadata": {}, 
            "outputs": [
                {
                    "output_type": "stream", 
                    "name": "stdout", 
                    "text": "Geospatial Data Successfully downloaded...\n"
                }
            ], 
            "source": "# read in latitude and longitude values from CSV file\n!wget  -q -O 'Toronto_Lat_Long.csv'  https://cocl.us/Geospatial_data\nprint(\"Geospatial Data Successfully downloaded...\")\n"
        }, 
        {
            "source": "Now read the Latitude/Longitude data from the CSV file into our Pandas dataframe...", 
            "cell_type": "markdown", 
            "metadata": {}
        }, 
        {
            "execution_count": 12, 
            "cell_type": "code", 
            "metadata": {}, 
            "outputs": [], 
            "source": "import csv\n\ndf_neighborhoods.set_index('PostalCode', inplace=True)\n\nwith open('Toronto_Lat_Long.csv') as csv_file:\n    csv_reader = csv.reader(csv_file, delimiter = ',')\n    line_count = 0\n    for row in csv_reader:\n        if line_count == 0:\n            # skip first row, since it is just header information\n            pass\n        else:\n            postalCode = str(row[0])\n            df_neighborhoods.loc[[postalCode], ['Latitude']]  = str(row[1])\n            df_neighborhoods.loc[[postalCode], ['Longitude']] = str(row[2])\n        line_count = line_count + 1\ncsv_file.close()\n            \n        "
        }, 
        {
            "source": "Look at the first few rows of our dataframe, to check that the Latitude/Longitude data is available...", 
            "cell_type": "markdown", 
            "metadata": {}
        }, 
        {
            "execution_count": 13, 
            "cell_type": "code", 
            "metadata": {}, 
            "outputs": [
                {
                    "execution_count": 13, 
                    "metadata": {}, 
                    "data": {
                        "text/html": "<div>\n<style scoped>\n    .dataframe tbody tr th:only-of-type {\n        vertical-align: middle;\n    }\n\n    .dataframe tbody tr th {\n        vertical-align: top;\n    }\n\n    .dataframe thead th {\n        text-align: right;\n    }\n</style>\n<table border=\"1\" class=\"dataframe\">\n  <thead>\n    <tr style=\"text-align: right;\">\n      <th></th>\n      <th>Borough</th>\n      <th>Neighborhood</th>\n      <th>Latitude</th>\n      <th>Longitude</th>\n    </tr>\n    <tr>\n      <th>PostalCode</th>\n      <th></th>\n      <th></th>\n      <th></th>\n      <th></th>\n    </tr>\n  </thead>\n  <tbody>\n    <tr>\n      <th>M5J</th>\n      <td>Downtown Toronto</td>\n      <td>Harbourfront East, Toronto Islands, Union Station</td>\n      <td>43.6408157</td>\n      <td>-79.3817523</td>\n    </tr>\n    <tr>\n      <th>M4B</th>\n      <td>East York</td>\n      <td>Woodbine Gardens, Parkview Hill</td>\n      <td>43.7063972</td>\n      <td>-79.309937</td>\n    </tr>\n    <tr>\n      <th>M4J</th>\n      <td>East York</td>\n      <td>East Toronto</td>\n      <td>43.685347</td>\n      <td>-79.3381065</td>\n    </tr>\n    <tr>\n      <th>M6J</th>\n      <td>West Toronto</td>\n      <td>Little Portugal, Trinity</td>\n      <td>43.6479267</td>\n      <td>-79.4197497</td>\n    </tr>\n    <tr>\n      <th>M3M</th>\n      <td>North York</td>\n      <td>Downsview Central</td>\n      <td>43.7284964</td>\n      <td>-79.4956974</td>\n    </tr>\n    <tr>\n      <th>M6L</th>\n      <td>North York</td>\n      <td>Maple Leaf Park, North Park, Upwood Park</td>\n      <td>43.7137562</td>\n      <td>-79.4900738</td>\n    </tr>\n    <tr>\n      <th>M9L</th>\n      <td>North York</td>\n      <td>Humber Summit</td>\n      <td>43.7563033</td>\n      <td>-79.5659633</td>\n    </tr>\n    <tr>\n      <th>M4M</th>\n      <td>East Toronto</td>\n      <td>Studio District</td>\n      <td>43.6595255</td>\n      <td>-79.340923</td>\n    </tr>\n    <tr>\n      <th>M9V</th>\n      <td>Etobicoke</td>\n      <td>Albion Gardens, Beaumond Heights, Humbergate, ...</td>\n      <td>43.7394164</td>\n      <td>-79.5884369</td>\n    </tr>\n    <tr>\n      <th>M5L</th>\n      <td>Downtown Toronto</td>\n      <td>Commerce Court, Victoria Hotel</td>\n      <td>43.6481985</td>\n      <td>-79.3798169</td>\n    </tr>\n  </tbody>\n</table>\n</div>", 
                        "text/plain": "                     Borough  \\\nPostalCode                     \nM5J         Downtown Toronto   \nM4B                East York   \nM4J                East York   \nM6J             West Toronto   \nM3M               North York   \nM6L               North York   \nM9L               North York   \nM4M             East Toronto   \nM9V                Etobicoke   \nM5L         Downtown Toronto   \n\n                                                 Neighborhood    Latitude  \\\nPostalCode                                                                  \nM5J         Harbourfront East, Toronto Islands, Union Station  43.6408157   \nM4B                           Woodbine Gardens, Parkview Hill  43.7063972   \nM4J                                              East Toronto   43.685347   \nM6J                                  Little Portugal, Trinity  43.6479267   \nM3M                                         Downsview Central  43.7284964   \nM6L                  Maple Leaf Park, North Park, Upwood Park  43.7137562   \nM9L                                             Humber Summit  43.7563033   \nM4M                                           Studio District  43.6595255   \nM9V         Albion Gardens, Beaumond Heights, Humbergate, ...  43.7394164   \nM5L                            Commerce Court, Victoria Hotel  43.6481985   \n\n              Longitude  \nPostalCode               \nM5J         -79.3817523  \nM4B          -79.309937  \nM4J         -79.3381065  \nM6J         -79.4197497  \nM3M         -79.4956974  \nM6L         -79.4900738  \nM9L         -79.5659633  \nM4M          -79.340923  \nM9V         -79.5884369  \nM5L         -79.3798169  "
                    }, 
                    "output_type": "execute_result"
                }
            ], 
            "source": "df_neighborhoods.head(10)"
        }
    ], 
    "metadata": {
        "kernelspec": {
            "display_name": "Python 3.5", 
            "name": "python3", 
            "language": "python"
        }, 
        "language_info": {
            "mimetype": "text/x-python", 
            "nbconvert_exporter": "python", 
            "version": "3.5.5", 
            "name": "python", 
            "file_extension": ".py", 
            "pygments_lexer": "ipython3", 
            "codemirror_mode": {
                "version": 3, 
                "name": "ipython"
            }
        }
    }, 
    "nbformat": 4
}