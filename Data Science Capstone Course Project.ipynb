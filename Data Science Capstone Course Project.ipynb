{
    "nbformat_minor": 1, 
    "cells": [
        {
            "source": "This notebook will mainly be used for Data Science Capstone Project Course...\n\nNote that this project will use Location Data from Foursquare API, combined\nwith Machine Learning Clustering/Segmentation, to create map of Toronto neighborhoods.", 
            "cell_type": "markdown", 
            "metadata": {}
        }, 
        {
            "source": "Here's a map of Toronto Neighborhoods, which we will be investigating using Foursquare location data\n\n\n![alt text](https://www.seetorontonow.com/wp-content/uploads/2016/02/toronto-map-gta-thumbnail.jpg  \"Toronto Neighborhood Map\")\n\n\n", 
            "cell_type": "markdown", 
            "metadata": {}
        }, 
        {
            "execution_count": 1, 
            "cell_type": "code", 
            "metadata": {}, 
            "outputs": [], 
            "source": "# First import the necessary Python libraries which will be used for Capstone Project\nimport pandas as pd\nimport numpy as np"
        }, 
        {
            "execution_count": 2, 
            "cell_type": "code", 
            "metadata": {}, 
            "outputs": [
                {
                    "output_type": "stream", 
                    "name": "stdout", 
                    "text": "Hello Capstone Project Course!\n"
                }
            ], 
            "source": "print('Hello Capstone Project Course!')"
        }
    ], 
    "metadata": {
        "kernelspec": {
            "display_name": "Python 3.5", 
            "name": "python3", 
            "language": "python"
        }, 
        "language_info": {
            "mimetype": "text/x-python", 
            "nbconvert_exporter": "python", 
            "version": "3.5.5", 
            "name": "python", 
            "file_extension": ".py", 
            "pygments_lexer": "ipython3", 
            "codemirror_mode": {
                "version": 3, 
                "name": "ipython"
            }
        }
    }, 
    "nbformat": 4
}